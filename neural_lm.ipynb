{
 "cells": [
  {
   "cell_type": "markdown",
   "id": "2c5548f9",
   "metadata": {},
   "source": [
    "## Setting  Up Dictionary\n",
    "\n",
    "Functions to set up a vocab of words and perform simple preprocessing on the given dataset"
   ]
  },
  {
   "cell_type": "code",
   "execution_count": 1,
   "id": "1c70a8a5-f375-4881-adbd-adb6d7abbefb",
   "metadata": {},
   "outputs": [],
   "source": [
    "import torch\n",
    "import gensim \n",
    "import numpy as np\n",
    "\n",
    "class Dictionary(object):\n",
    "    def __init__(self):\n",
    "        self.word2idx = {}\n",
    "        self.idx2word = {}\n",
    "        self.idx = 0\n",
    "    \n",
    "    def add_word(self, word):\n",
    "        if not word in self.word2idx:\n",
    "            self.word2idx[word] = self.idx\n",
    "            self.idx2word[self.idx] = word\n",
    "            self.idx += 1\n",
    "    \n",
    "    def __len__(self):\n",
    "        return len(self.word2idx)\n",
    "    \n",
    "class Corpus(object):\n",
    "    def __init__(self):\n",
    "        self.dictionary = Dictionary()\n",
    "        # words_found += 1\n",
    "    def get_data(self, path, batch_size=20):\n",
    "        # Add words to the dictionary\n",
    "        with open(path, 'r') as f:\n",
    "            lines = f.readlines()\n",
    "        tokens = 0\n",
    "        # process sentences to tokens\n",
    "        processedLines = [gensim.utils.simple_preprocess(sentence,min_len=1) for sentence in lines]\n",
    "        #create word list from token using utf8 encoding\n",
    "        for words in processedLines : \n",
    "            tokens += len(words) \n",
    "            for word in words : \n",
    "                self.dictionary.add_word(word)  \n",
    "        \n",
    "        # Tokenize the file content\n",
    "        ids = torch.LongTensor(tokens)\n",
    "        token = 0\n",
    "        with open(path, 'r') as f:\n",
    "            lines = f.readlines()\n",
    "        processedLines = [gensim.utils.simple_preprocess(sentence,min_len=1) for sentence in lines]\n",
    "        #create word list from token using utf8 encoding\n",
    "        for words in processedLines :\n",
    "            for word in words:\n",
    "                ids[token] = self.dictionary.word2idx[word]\n",
    "                token += 1\n",
    "        \n",
    "        return ids\n",
    "        "
   ]
  },
  {
   "cell_type": "code",
   "execution_count": 2,
   "metadata": {},
   "outputs": [],
   "source": [
    "UNK_TOKEN = \"<UNK>\""
   ]
  },
  {
   "cell_type": "markdown",
   "id": "da0bfcbe",
   "metadata": {},
   "source": [
    "## Glove Embeddings\n",
    "using pretrained glove embeddings to map words to vectors "
   ]
  },
  {
   "cell_type": "code",
   "execution_count": 49,
   "id": "743fbff9-c7e4-4872-9550-8b69df569c92",
   "metadata": {},
   "outputs": [],
   "source": [
    "#setup Glove word embeddings\n",
    "with open('glove.6B/glove.6B.50d.txt', 'r') as f:\n",
    "    lines = f.readlines()\n",
    "\n",
    "glove = dict()\n",
    "\n",
    "for line in lines:\n",
    "    items = line.split()\n",
    "    word = items[0]\n",
    "    vector = torch.FloatTensor(list(map(float, items[1:])))\n",
    "    glove[word] = vector"
   ]
  },
  {
   "cell_type": "markdown",
   "id": "334bc95d",
   "metadata": {},
   "source": [
    "## Setting Up Embeddings In Pytorch\n",
    "  "
   ]
  },
  {
   "cell_type": "code",
   "execution_count": 48,
   "id": "ad1404e9-8667-4994-9ceb-2de3ea8c9ac5",
   "metadata": {},
   "outputs": [
    {
     "name": "stdout",
     "output_type": "stream",
     "text": [
      "cpu\n",
      "41455\n"
     ]
    }
   ],
   "source": [
    "import torch\n",
    "import torch.nn as nn\n",
    "from torch.nn.utils import clip_grad_norm_\n",
    "\n",
    "# Device configuration\n",
    "device = torch.device('cuda' if torch.cuda.is_available() else 'cpu')\n",
    "print(device)\n",
    "\n",
    "# make dictionary\n",
    "corpus = Corpus()\n",
    "ids = corpus.get_data('./brown.txt', 20)\n",
    "corpus.dictionary.add_word(UNK_TOKEN)\n",
    "vocab_size = len(corpus.dictionary)\n",
    "num_batches = ids.size(1)\n",
    "\n",
    "print(vocab_size)\n",
    "#weights for embedding layer\n",
    "\n",
    "weights_matrix = torch.zeros(vocab_size, 50)\n",
    "words_found = 0\n",
    "\n",
    "for i in range(vocab_size-1):\n",
    "    # print(corpus.dictionary.idx2word[word])\n",
    "    try:\n",
    "        weights_matrix[i] = glove[corpus.dictionary.idx2word[i]]\n",
    "        words_found += 1\n",
    "    except KeyError:\n",
    "        weights_matrix[i] = torch.from_numpy(np.random.normal(scale=0.6, size=(50, )))\n",
    "weights_matrix[vocab_size-1] =  torch.mean(weights_matrix, 0)"
   ]
  },
  {
   "cell_type": "markdown",
   "id": "ec48a0f0",
   "metadata": {},
   "source": [
    "## Q1 Neural Network Model"
   ]
  },
  {
   "cell_type": "code",
   "execution_count": 5,
   "id": "63209b50-db36-4bf8-8943-92e7864d68be",
   "metadata": {},
   "outputs": [],
   "source": [
    "# Embedding layer\n",
    "def create_emb_layer(weights_matrix, non_trainable=False):\n",
    "    num_embeddings, embedding_dim = weights_matrix.size()\n",
    "    emb_layer = nn.Embedding(num_embeddings, embedding_dim)\n",
    "    emb_layer.load_state_dict({'weight': weights_matrix})\n",
    "    if non_trainable:\n",
    "        emb_layer.weight.requires_grad = False\n",
    "\n",
    "    return emb_layer, num_embeddings, embedding_dim\n",
    "\n",
    "\n",
    "# Neural Network Model\n",
    "\n",
    "class language_model(nn.Module):\n",
    "    def __init__(self, weights_matrix, hidden_size, vocab_size):\n",
    "        super(language_model, self).__init__()\n",
    "        self.embedding, num_embeddings, embedding_dim = create_emb_layer(weights_matrix, True)\n",
    "        self.hidden_size = hidden_size\n",
    "        self.linear = nn.Linear( 200,hidden_size)\n",
    "        self.linear2 = nn.Linear( hidden_size, vocab_size)\n",
    "        self.sf = nn.Softmax(dim=0)\n",
    "       \n",
    "    def forward(self, inp):\n",
    "        out = self.embedding(inp)\n",
    "        out1 = torch.concat([out[i] for i in range(out.size(0))])\n",
    "        out2 = self.linear(out1)\n",
    "        out3 = self.linear2(out2)\n",
    "        out4 = self.sf(out3)\n",
    "        return out4\n",
    "        # return self.gru(self.embedding(inp), hidden)\n",
    "    \n",
    "    def init_hidden(self, batch_size):\n",
    "        return Variable(torch.zeros(self.num_layers, batch_size, self.hidden_size))"
   ]
  },
  {
   "cell_type": "code",
   "execution_count": 33,
   "id": "97b6f001",
   "metadata": {},
   "outputs": [],
   "source": [
    "model = language_model(weights_matrix, hidden_size=300, vocab_size=vocab_size).to(device)\n",
    "criterion = nn.CrossEntropyLoss()\n",
    "optimizer = torch.optim.Adam(model.parameters(), lr=0.001)\n",
    "epochs = 5\n"
   ]
  },
  {
   "cell_type": "code",
   "execution_count": 46,
   "id": "649a1c17",
   "metadata": {},
   "outputs": [
    {
     "data": {
      "text/plain": [
       "tensor([2.8963e-05, 2.6875e-05, 1.8563e-05,  ..., 2.3017e-05, 1.7878e-05,\n",
       "        2.2275e-05], grad_fn=<SoftmaxBackward0>)"
      ]
     },
     "execution_count": 46,
     "metadata": {},
     "output_type": "execute_result"
    }
   ],
   "source": [
    "for epoch in epochs:\n",
    "    with open('./brown.txt', 'r') as f:\n",
    "        lines = f.readlines()\n",
    "    processedLines = [gensim.utils.simple_preprocess(sentence,min_len=1) for sentence in lines]\n",
    "    \n",
    "\n",
    "    for i in range(0, ids.size(1) - seq_length, seq_length):\n",
    "        # Get mini-batch inputs and targets\n",
    "        inputs = ids[:, i:i+seq_length].to(device)\n",
    "        targets = ids[:, (i+1):(i+1)+seq_length].to(device)\n",
    "    inp = [\"I\" , \"eat\" , \"a\" , \"red\"]\n",
    "    x = []\n",
    "    for word in inp:\n",
    "        try:\n",
    "            x.append(corpus.dictionary.word2idx[word.lower()])\n",
    "        except:\n",
    "            x.append(corpus.dictionary.word2idx[UNK_TOKEN])\n",
    "\n",
    "    x = torch.LongTensor(x)\n",
    "    output = model(x)\n",
    "    output\n",
    "\n",
    "\n",
    "# print(output.size())\n",
    "# corpus.dictionary.idx2word[int(torch.argmax(output).data)]"
   ]
  },
  {
   "cell_type": "code",
   "execution_count": null,
   "id": "78e53228",
   "metadata": {},
   "outputs": [],
   "source": []
  },
  {
   "cell_type": "code",
   "execution_count": null,
   "id": "ec4edb06",
   "metadata": {},
   "outputs": [],
   "source": []
  }
 ],
 "metadata": {
  "kernelspec": {
   "display_name": "Python 3.8.8 ('base')",
   "language": "python",
   "name": "python3"
  },
  "language_info": {
   "codemirror_mode": {
    "name": "ipython",
    "version": 3
   },
   "file_extension": ".py",
   "mimetype": "text/x-python",
   "name": "python",
   "nbconvert_exporter": "python",
   "pygments_lexer": "ipython3",
   "version": "3.8.8"
  },
  "vscode": {
   "interpreter": {
    "hash": "bdd9074d09183e8bc0025300cef7a83eb88924cf0a158e90afa6b5f04cbbd876"
   }
  }
 },
 "nbformat": 4,
 "nbformat_minor": 5
}
