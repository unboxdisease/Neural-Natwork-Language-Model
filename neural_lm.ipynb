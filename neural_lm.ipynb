{
 "cells": [
  {
   "cell_type": "markdown",
   "id": "2c5548f9",
   "metadata": {},
   "source": [
    "## Setting  Up Dictionary\n",
    "\n",
    "Functions to set up a vocab of words and perform simple preprocessing on the given dataset"
   ]
  },
  {
   "cell_type": "code",
   "execution_count": 74,
   "id": "1c70a8a5-f375-4881-adbd-adb6d7abbefb",
   "metadata": {},
   "outputs": [],
   "source": [
    "import torch\n",
    "import gensim \n",
    "import numpy as np\n",
    "\n",
    "class Dictionary(object):\n",
    "    def __init__(self):\n",
    "        self.word2idx = {}\n",
    "        self.idx2word = {}\n",
    "        self.idx = 0\n",
    "    \n",
    "    def add_word(self, word):\n",
    "        if not word in self.word2idx:\n",
    "            self.word2idx[word] = self.idx\n",
    "            self.idx2word[self.idx] = word\n",
    "            self.idx += 1\n",
    "    \n",
    "    def __len__(self):\n",
    "        return len(self.word2idx)\n",
    "    \n",
    "class Corpus(object):\n",
    "    def __init__(self):\n",
    "        self.dictionary = Dictionary()\n",
    "        # words_found += 1\n",
    "    def get_data(self, path, batch_size=20):\n",
    "        # Add words to the dictionary\n",
    "        with open(path, 'r') as f:\n",
    "            lines = f.readlines()\n",
    "        tokens = 0\n",
    "        # process sentences to tokens\n",
    "        processedLines = [gensim.utils.simple_preprocess(sentence,min_len=1) for sentence in lines]\n",
    "        #create word list from token using utf8 encoding\n",
    "        for words in processedLines : \n",
    "            tokens += len(words) \n",
    "            for word in words : \n",
    "                self.dictionary.add_word(word)  \n",
    "        \n",
    "        # Tokenize the file content\n",
    "        ids = np.zeros(tokens)\n",
    "        token = 0\n",
    "        with open(path, 'r') as f:\n",
    "            lines = f.readlines()\n",
    "        processedLines = [gensim.utils.simple_preprocess(sentence,min_len=1) for sentence in lines]\n",
    "        #create word list from token using utf8 encoding\n",
    "        for words in processedLines :\n",
    "            for word in words:\n",
    "                ids[token] = int(self.dictionary.word2idx[word])\n",
    "                token += 1\n",
    "        \n",
    "        return ids\n",
    "        "
   ]
  },
  {
   "cell_type": "code",
   "execution_count": 75,
   "metadata": {},
   "outputs": [],
   "source": [
    "UNK_TOKEN = \"<UNK>\""
   ]
  },
  {
   "cell_type": "markdown",
   "id": "da0bfcbe",
   "metadata": {},
   "source": [
    "## Glove Embeddings\n",
    "using pretrained glove embeddings to map words to vectors "
   ]
  },
  {
   "cell_type": "code",
   "execution_count": 76,
   "id": "743fbff9-c7e4-4872-9550-8b69df569c92",
   "metadata": {},
   "outputs": [],
   "source": [
    "#setup Glove word embeddings\n",
    "with open('glove.6B/glove.6B.50d.txt', 'r') as f:\n",
    "    lines = f.readlines()\n",
    "\n",
    "glove = dict()\n",
    "\n",
    "for line in lines:\n",
    "    items = line.split()\n",
    "    word = items[0]\n",
    "    vector = torch.FloatTensor(list(map(float, items[1:])))\n",
    "    glove[word] = vector"
   ]
  },
  {
   "cell_type": "markdown",
   "id": "334bc95d",
   "metadata": {},
   "source": [
    "## Setting Up Embeddings In Pytorch\n",
    "  "
   ]
  },
  {
   "cell_type": "code",
   "execution_count": 77,
   "id": "ad1404e9-8667-4994-9ceb-2de3ea8c9ac5",
   "metadata": {},
   "outputs": [
    {
     "name": "stdout",
     "output_type": "stream",
     "text": [
      "cpu\n",
      "41455\n"
     ]
    }
   ],
   "source": [
    "import torch\n",
    "import torch.nn as nn\n",
    "from torch.nn.utils import clip_grad_norm_\n",
    "\n",
    "# Device configuration\n",
    "device = torch.device('cuda' if torch.cuda.is_available() else 'cpu')\n",
    "print(device)\n",
    "\n",
    "# make dictionary\n",
    "corpus = Corpus()\n",
    "ids = corpus.get_data('./brown.txt', 20)\n",
    "corpus.dictionary.add_word(UNK_TOKEN)\n",
    "vocab_size = len(corpus.dictionary)\n",
    "\n",
    "print(vocab_size)\n",
    "#weights for embedding layer\n",
    "\n",
    "weights_matrix = torch.zeros(vocab_size, 50)\n",
    "words_found = 0\n",
    "\n",
    "for i in range(vocab_size-1):\n",
    "    # print(corpus.dictionary.idx2word[word])\n",
    "    try:\n",
    "        weights_matrix[i] = glove[corpus.dictionary.idx2word[i]]\n",
    "        words_found += 1\n",
    "    except KeyError:\n",
    "        weights_matrix[i] = torch.from_numpy(np.random.normal(scale=0.6, size=(50, )))\n",
    "weights_matrix[vocab_size-1] =  torch.mean(weights_matrix, 0)"
   ]
  },
  {
   "cell_type": "code",
   "execution_count": 91,
   "id": "c6199f58",
   "metadata": {},
   "outputs": [
    {
     "data": {
      "text/plain": [
       "10.0"
      ]
     },
     "execution_count": 91,
     "metadata": {},
     "output_type": "execute_result"
    }
   ],
   "source": [
    "ids[0:10]\n",
    "\n"
   ]
  },
  {
   "cell_type": "markdown",
   "id": "ec48a0f0",
   "metadata": {},
   "source": [
    "## Q1 Neural Network Model"
   ]
  },
  {
   "cell_type": "code",
   "execution_count": 5,
   "id": "63209b50-db36-4bf8-8943-92e7864d68be",
   "metadata": {},
   "outputs": [],
   "source": [
    "# Embedding layer\n",
    "def create_emb_layer(weights_matrix, non_trainable=False):\n",
    "    num_embeddings, embedding_dim = weights_matrix.size()\n",
    "    emb_layer = nn.Embedding(num_embeddings, embedding_dim)\n",
    "    emb_layer.load_state_dict({'weight': weights_matrix})\n",
    "    if non_trainable:\n",
    "        emb_layer.weight.requires_grad = False\n",
    "\n",
    "    return emb_layer, num_embeddings, embedding_dim\n",
    "\n",
    "\n",
    "# Neural Network Model\n",
    "\n",
    "class language_model(nn.Module):\n",
    "    def __init__(self, weights_matrix, hidden_size, vocab_size):\n",
    "        super(language_model, self).__init__()\n",
    "        self.embedding, num_embeddings, embedding_dim = create_emb_layer(weights_matrix, True)\n",
    "        self.hidden_size = hidden_size\n",
    "        self.linear = nn.Linear( 200,hidden_size)\n",
    "        self.linear2 = nn.Linear( hidden_size, vocab_size)\n",
    "        self.sf = nn.Softmax(dim=0)\n",
    "       \n",
    "    def forward(self, inp):\n",
    "        out = self.embedding(inp)\n",
    "        out1 = torch.concat([out[i] for i in range(out.size(0))])\n",
    "        out2 = self.linear(out1)\n",
    "        out3 = self.linear2(out2)\n",
    "        out4 = self.sf(out3)\n",
    "        return out4\n",
    "        # return self.gru(self.embedding(inp), hidden)\n",
    "    \n",
    "    def init_hidden(self, batch_size):\n",
    "        return Variable(torch.zeros(self.num_layers, batch_size, self.hidden_size))"
   ]
  },
  {
   "cell_type": "code",
   "execution_count": 64,
   "id": "97b6f001",
   "metadata": {},
   "outputs": [],
   "source": [
    "model = language_model(weights_matrix, hidden_size=300, vocab_size=vocab_size).to(device)\n",
    "criterion = nn.CrossEntropyLoss()\n",
    "optimizer = torch.optim.Adam(model.parameters(), lr=0.001)\n",
    "epochs = 5\n",
    "seq_length = 4"
   ]
  },
  {
   "cell_type": "code",
   "execution_count": 96,
   "id": "649a1c17",
   "metadata": {},
   "outputs": [
    {
     "name": "stdout",
     "output_type": "stream",
     "text": [
      "Epoch [1/5], Step[0/10000], Loss: 10.6324, Perplexity: 41455.89\n",
      "Epoch [1/5], Step[500/10000], Loss: 10.6324, Perplexity: 41458.26\n",
      "Epoch [1/5], Step[1000/10000], Loss: 10.6324, Perplexity: 41458.06\n"
     ]
    },
    {
     "ename": "KeyboardInterrupt",
     "evalue": "",
     "output_type": "error",
     "traceback": [
      "\u001b[0;31m---------------------------------------------------------------------------\u001b[0m",
      "\u001b[0;31mKeyboardInterrupt\u001b[0m                         Traceback (most recent call last)",
      "\u001b[1;32m/home/kushal/Kushal/7sem/ANLP/Neural-Natwork-Language-Model/neural_lm.ipynb Cell 12'\u001b[0m in \u001b[0;36m<cell line: 1>\u001b[0;34m()\u001b[0m\n\u001b[1;32m     <a href='vscode-notebook-cell:/home/kushal/Kushal/7sem/ANLP/Neural-Natwork-Language-Model/neural_lm.ipynb#ch0000014?line=14'>15</a>\u001b[0m model\u001b[39m.\u001b[39mzero_grad()\n\u001b[1;32m     <a href='vscode-notebook-cell:/home/kushal/Kushal/7sem/ANLP/Neural-Natwork-Language-Model/neural_lm.ipynb#ch0000014?line=15'>16</a>\u001b[0m loss\u001b[39m.\u001b[39mbackward()\n\u001b[0;32m---> <a href='vscode-notebook-cell:/home/kushal/Kushal/7sem/ANLP/Neural-Natwork-Language-Model/neural_lm.ipynb#ch0000014?line=16'>17</a>\u001b[0m optimizer\u001b[39m.\u001b[39;49mstep()\n\u001b[1;32m     <a href='vscode-notebook-cell:/home/kushal/Kushal/7sem/ANLP/Neural-Natwork-Language-Model/neural_lm.ipynb#ch0000014?line=17'>18</a>\u001b[0m step \u001b[39m=\u001b[39m (i\u001b[39m+\u001b[39m\u001b[39m1\u001b[39m) \u001b[39m/\u001b[39m\u001b[39m/\u001b[39m seq_length\n\u001b[1;32m     <a href='vscode-notebook-cell:/home/kushal/Kushal/7sem/ANLP/Neural-Natwork-Language-Model/neural_lm.ipynb#ch0000014?line=18'>19</a>\u001b[0m \u001b[39mif\u001b[39;00m step \u001b[39m%\u001b[39m \u001b[39m500\u001b[39m \u001b[39m==\u001b[39m \u001b[39m0\u001b[39m:\n",
      "File \u001b[0;32m~/anaconda3/lib/python3.8/site-packages/torch/optim/optimizer.py:113\u001b[0m, in \u001b[0;36mOptimizer._hook_for_profile.<locals>.profile_hook_step.<locals>.wrapper\u001b[0;34m(*args, **kwargs)\u001b[0m\n\u001b[1;32m    111\u001b[0m profile_name \u001b[39m=\u001b[39m \u001b[39m\"\u001b[39m\u001b[39mOptimizer.step#\u001b[39m\u001b[39m{}\u001b[39;00m\u001b[39m.step\u001b[39m\u001b[39m\"\u001b[39m\u001b[39m.\u001b[39mformat(obj\u001b[39m.\u001b[39m\u001b[39m__class__\u001b[39m\u001b[39m.\u001b[39m\u001b[39m__name__\u001b[39m)\n\u001b[1;32m    112\u001b[0m \u001b[39mwith\u001b[39;00m torch\u001b[39m.\u001b[39mautograd\u001b[39m.\u001b[39mprofiler\u001b[39m.\u001b[39mrecord_function(profile_name):\n\u001b[0;32m--> 113\u001b[0m     \u001b[39mreturn\u001b[39;00m func(\u001b[39m*\u001b[39;49margs, \u001b[39m*\u001b[39;49m\u001b[39m*\u001b[39;49mkwargs)\n",
      "File \u001b[0;32m~/anaconda3/lib/python3.8/site-packages/torch/autograd/grad_mode.py:27\u001b[0m, in \u001b[0;36m_DecoratorContextManager.__call__.<locals>.decorate_context\u001b[0;34m(*args, **kwargs)\u001b[0m\n\u001b[1;32m     24\u001b[0m \u001b[39m@functools\u001b[39m\u001b[39m.\u001b[39mwraps(func)\n\u001b[1;32m     25\u001b[0m \u001b[39mdef\u001b[39;00m \u001b[39mdecorate_context\u001b[39m(\u001b[39m*\u001b[39margs, \u001b[39m*\u001b[39m\u001b[39m*\u001b[39mkwargs):\n\u001b[1;32m     26\u001b[0m     \u001b[39mwith\u001b[39;00m \u001b[39mself\u001b[39m\u001b[39m.\u001b[39mclone():\n\u001b[0;32m---> 27\u001b[0m         \u001b[39mreturn\u001b[39;00m func(\u001b[39m*\u001b[39;49margs, \u001b[39m*\u001b[39;49m\u001b[39m*\u001b[39;49mkwargs)\n",
      "File \u001b[0;32m~/anaconda3/lib/python3.8/site-packages/torch/optim/adam.py:157\u001b[0m, in \u001b[0;36mAdam.step\u001b[0;34m(self, closure)\u001b[0m\n\u001b[1;32m    153\u001b[0m                 max_exp_avg_sqs\u001b[39m.\u001b[39mappend(state[\u001b[39m'\u001b[39m\u001b[39mmax_exp_avg_sq\u001b[39m\u001b[39m'\u001b[39m])\n\u001b[1;32m    155\u001b[0m             state_steps\u001b[39m.\u001b[39mappend(state[\u001b[39m'\u001b[39m\u001b[39mstep\u001b[39m\u001b[39m'\u001b[39m])\n\u001b[0;32m--> 157\u001b[0m     adam(params_with_grad,\n\u001b[1;32m    158\u001b[0m          grads,\n\u001b[1;32m    159\u001b[0m          exp_avgs,\n\u001b[1;32m    160\u001b[0m          exp_avg_sqs,\n\u001b[1;32m    161\u001b[0m          max_exp_avg_sqs,\n\u001b[1;32m    162\u001b[0m          state_steps,\n\u001b[1;32m    163\u001b[0m          amsgrad\u001b[39m=\u001b[39;49mgroup[\u001b[39m'\u001b[39;49m\u001b[39mamsgrad\u001b[39;49m\u001b[39m'\u001b[39;49m],\n\u001b[1;32m    164\u001b[0m          beta1\u001b[39m=\u001b[39;49mbeta1,\n\u001b[1;32m    165\u001b[0m          beta2\u001b[39m=\u001b[39;49mbeta2,\n\u001b[1;32m    166\u001b[0m          lr\u001b[39m=\u001b[39;49mgroup[\u001b[39m'\u001b[39;49m\u001b[39mlr\u001b[39;49m\u001b[39m'\u001b[39;49m],\n\u001b[1;32m    167\u001b[0m          weight_decay\u001b[39m=\u001b[39;49mgroup[\u001b[39m'\u001b[39;49m\u001b[39mweight_decay\u001b[39;49m\u001b[39m'\u001b[39;49m],\n\u001b[1;32m    168\u001b[0m          eps\u001b[39m=\u001b[39;49mgroup[\u001b[39m'\u001b[39;49m\u001b[39meps\u001b[39;49m\u001b[39m'\u001b[39;49m],\n\u001b[1;32m    169\u001b[0m          maximize\u001b[39m=\u001b[39;49mgroup[\u001b[39m'\u001b[39;49m\u001b[39mmaximize\u001b[39;49m\u001b[39m'\u001b[39;49m],\n\u001b[1;32m    170\u001b[0m          foreach\u001b[39m=\u001b[39;49mgroup[\u001b[39m'\u001b[39;49m\u001b[39mforeach\u001b[39;49m\u001b[39m'\u001b[39;49m],\n\u001b[1;32m    171\u001b[0m          capturable\u001b[39m=\u001b[39;49mgroup[\u001b[39m'\u001b[39;49m\u001b[39mcapturable\u001b[39;49m\u001b[39m'\u001b[39;49m])\n\u001b[1;32m    173\u001b[0m \u001b[39mreturn\u001b[39;00m loss\n",
      "File \u001b[0;32m~/anaconda3/lib/python3.8/site-packages/torch/optim/adam.py:213\u001b[0m, in \u001b[0;36madam\u001b[0;34m(params, grads, exp_avgs, exp_avg_sqs, max_exp_avg_sqs, state_steps, foreach, capturable, amsgrad, beta1, beta2, lr, weight_decay, eps, maximize)\u001b[0m\n\u001b[1;32m    210\u001b[0m \u001b[39melse\u001b[39;00m:\n\u001b[1;32m    211\u001b[0m     func \u001b[39m=\u001b[39m _single_tensor_adam\n\u001b[0;32m--> 213\u001b[0m func(params,\n\u001b[1;32m    214\u001b[0m      grads,\n\u001b[1;32m    215\u001b[0m      exp_avgs,\n\u001b[1;32m    216\u001b[0m      exp_avg_sqs,\n\u001b[1;32m    217\u001b[0m      max_exp_avg_sqs,\n\u001b[1;32m    218\u001b[0m      state_steps,\n\u001b[1;32m    219\u001b[0m      amsgrad\u001b[39m=\u001b[39;49mamsgrad,\n\u001b[1;32m    220\u001b[0m      beta1\u001b[39m=\u001b[39;49mbeta1,\n\u001b[1;32m    221\u001b[0m      beta2\u001b[39m=\u001b[39;49mbeta2,\n\u001b[1;32m    222\u001b[0m      lr\u001b[39m=\u001b[39;49mlr,\n\u001b[1;32m    223\u001b[0m      weight_decay\u001b[39m=\u001b[39;49mweight_decay,\n\u001b[1;32m    224\u001b[0m      eps\u001b[39m=\u001b[39;49meps,\n\u001b[1;32m    225\u001b[0m      maximize\u001b[39m=\u001b[39;49mmaximize,\n\u001b[1;32m    226\u001b[0m      capturable\u001b[39m=\u001b[39;49mcapturable)\n",
      "File \u001b[0;32m~/anaconda3/lib/python3.8/site-packages/torch/optim/adam.py:305\u001b[0m, in \u001b[0;36m_single_tensor_adam\u001b[0;34m(params, grads, exp_avgs, exp_avg_sqs, max_exp_avg_sqs, state_steps, amsgrad, beta1, beta2, lr, weight_decay, eps, maximize, capturable)\u001b[0m\n\u001b[1;32m    303\u001b[0m     denom \u001b[39m=\u001b[39m (max_exp_avg_sqs[i]\u001b[39m.\u001b[39msqrt() \u001b[39m/\u001b[39m bias_correction2_sqrt)\u001b[39m.\u001b[39madd_(eps)\n\u001b[1;32m    304\u001b[0m \u001b[39melse\u001b[39;00m:\n\u001b[0;32m--> 305\u001b[0m     denom \u001b[39m=\u001b[39m (exp_avg_sq\u001b[39m.\u001b[39;49msqrt() \u001b[39m/\u001b[39;49m bias_correction2_sqrt)\u001b[39m.\u001b[39madd_(eps)\n\u001b[1;32m    307\u001b[0m param\u001b[39m.\u001b[39maddcdiv_(exp_avg, denom, value\u001b[39m=\u001b[39m\u001b[39m-\u001b[39mstep_size)\n",
      "\u001b[0;31mKeyboardInterrupt\u001b[0m: "
     ]
    }
   ],
   "source": [
    "for epoch in range(epochs):\n",
    "    \n",
    "    for i in range(0, len(ids) - seq_length, seq_length):\n",
    "        # Get mini-batch inputs and targets\n",
    "        inputs = ids[i:i+seq_length]\n",
    "        inputs = torch.tensor(inputs, dtype=torch.long).to(device)\n",
    "        output = model(inputs)\n",
    "        real = np.zeros(output.shape)\n",
    "        real[int(ids[i+seq_length])] = 1\n",
    "        real = torch.tensor(real, dtype=torch.float).to(device)\n",
    "        loss = criterion(output,real )\n",
    "        \n",
    "        \n",
    "        # Backward and optimize\n",
    "        model.zero_grad()\n",
    "        loss.backward()\n",
    "        optimizer.step()\n",
    "        step = (i+1) // seq_length\n",
    "        if step % 500 == 0:\n",
    "            print ('Epoch [{}/{}], Step[{}/{}], Loss: {:.4f}, Perplexity: {:5.2f}'\n",
    "                   .format(epoch+1, 5, step, (10000), loss.item(), np.exp(loss.item())))\n",
    "\n",
    "        # targets = ids[:, (i+1):(i+1)+seq_length].to(device)\n",
    "    \n",
    "        # x = []\n",
    "        # for word in inputs:\n",
    "        #     try:\n",
    "        #         x.append(corpus.dictionary.word2idx[word.lower()])\n",
    "        #     except:\n",
    "        #         x.append(corpus.dictionary.word2idx[UNK_TOKEN])\n",
    "\n",
    "        # x = torch.LongTensor(x)\n",
    "        \n",
    "        # output\n",
    "\n",
    "\n",
    "# print(output.size())\n",
    "# corpus.dictionary.idx2word[int(torch.argmax(output).data)]"
   ]
  },
  {
   "cell_type": "code",
   "execution_count": 80,
   "id": "78e53228",
   "metadata": {},
   "outputs": [
    {
     "data": {
      "text/plain": [
       "array([0., 1., 2., 3.])"
      ]
     },
     "execution_count": 80,
     "metadata": {},
     "output_type": "execute_result"
    }
   ],
   "source": [
    "ids[0:4]"
   ]
  },
  {
   "cell_type": "code",
   "execution_count": null,
   "id": "ec4edb06",
   "metadata": {},
   "outputs": [],
   "source": []
  }
 ],
 "metadata": {
  "kernelspec": {
   "display_name": "Python 3.8.8 ('base')",
   "language": "python",
   "name": "python3"
  },
  "language_info": {
   "codemirror_mode": {
    "name": "ipython",
    "version": 3
   },
   "file_extension": ".py",
   "mimetype": "text/x-python",
   "name": "python",
   "nbconvert_exporter": "python",
   "pygments_lexer": "ipython3",
   "version": "3.8.8"
  },
  "vscode": {
   "interpreter": {
    "hash": "bdd9074d09183e8bc0025300cef7a83eb88924cf0a158e90afa6b5f04cbbd876"
   }
  }
 },
 "nbformat": 4,
 "nbformat_minor": 5
}
